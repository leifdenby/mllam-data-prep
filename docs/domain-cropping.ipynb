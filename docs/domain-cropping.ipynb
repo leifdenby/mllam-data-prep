{
 "cells": [
  {
   "cell_type": "markdown",
   "metadata": {},
   "source": [
    "# Cropping a domain using the lat/lon convex hull of another domain\n",
    "\n",
    "This notebook demonstrates how to crop a domain using the lat/lon convex hull of another domain. This is useful when a) you have two datasets on two different overlapping domains where you only want to keep the overlapping part, or b) in the case where you want to run limited-area simulations and need to create a dataset that provides the boundary conditions for the limited-area domain."
   ]
  },
  {
   "cell_type": "code",
   "execution_count": null,
   "metadata": {},
   "outputs": [],
   "source": [
    "import tests.data as testdata\n",
    "import tempfile\n",
    "\n",
    "import xarray as xr\n",
    "import numpy as np\n",
    "import matplotlib.pyplot as plt\n",
    "import cartopy.crs as ccrs\n",
    "\n",
    "import mllam_data_prep as mdp\n",
    "import tests.data as testdata\n",
    "from mllam_data_prep.ops import cropping    "
   ]
  },
  {
   "cell_type": "markdown",
   "metadata": {},
   "source": [
    "We will start by creating the some synthetic data on two different domains where one sits within the other, mimicking the scenario where you have a high-resolution dataset within a coarser dataset."
   ]
  },
  {
   "cell_type": "code",
   "execution_count": null,
   "metadata": {},
   "outputs": [],
   "source": [
    "tmpdir = tempfile.TemporaryDirectory()\n",
    "l = 500 * 1.0e3  # length and width of domain in meters\n",
    "N = 50  # number of grid points in each direction\n",
    "config_lam = testdata.create_input_datasets_and_config(\n",
    "    identifier=\"lam\",\n",
    "    data_categories=[\"state\"],\n",
    "    tmpdir=tmpdir,\n",
    "    xlim=[-l/2.0, l/2.0],\n",
    "    ylim=[-l/2.0, l/2.0],\n",
    "    nx=N, ny=N,\n",
    "    add_latlon=True\n",
    "\n",
    ")\n",
    "# make the global domain twice as large as the LAM domain so that the lam\n",
    "# domain is contained within the global domain, but half the number of grid\n",
    "# points in each direction\n",
    "config_global = testdata.create_input_datasets_and_config(\n",
    "    identifier=\"global\",\n",
    "    data_categories=[\"state\"],\n",
    "    tmpdir=tmpdir,\n",
    "    xlim=[-l, l],\n",
    "    ylim=[-l, l],\n",
    "    nx=N//2, ny=N//2,\n",
    "    add_latlon=True\n",
    ")\n"
   ]
  },
  {
   "cell_type": "code",
   "execution_count": null,
   "metadata": {},
   "outputs": [],
   "source": [
    "ds_lam = mdp.create_dataset(config=config_lam)\n",
    "ds_global = mdp.create_dataset(config=config_global)"
   ]
  },
  {
   "cell_type": "code",
   "execution_count": null,
   "metadata": {},
   "outputs": [],
   "source": [
    "ds_lam"
   ]
  },
  {
   "cell_type": "code",
   "execution_count": null,
   "metadata": {},
   "outputs": [],
   "source": [
    "ds_global"
   ]
  },
  {
   "cell_type": "markdown",
   "metadata": {},
   "source": [
    "Let's first make a mask that indicates which of the coarser domain grid-points are within the convex hull of the high-resolution grid points coordinates"
   ]
  },
  {
   "cell_type": "code",
   "execution_count": null,
   "metadata": {},
   "outputs": [],
   "source": [
    "da_interior_mask = cropping.create_convex_hull_mask(ds=ds_global, ds_reference=ds_lam)"
   ]
  },
  {
   "cell_type": "code",
   "execution_count": null,
   "metadata": {},
   "outputs": [],
   "source": [
    "da_interior_mask = da_interior_mask.where(da_interior_mask, drop=True)"
   ]
  },
  {
   "cell_type": "code",
   "execution_count": null,
   "metadata": {},
   "outputs": [],
   "source": [
    "ds_reference = ds_lam\n",
    "ds = ds_global\n",
    "\n",
    "fig, ax = plt.subplots(subplot_kw=dict(projection=ccrs.PlateCarree()))\n",
    "xr.plot.scatter(ax=ax, ds=ds, x=\"lon\", y=\"lat\", label=\"ds\", transform=ccrs.PlateCarree())\n",
    "xr.plot.scatter(ax=ax, ds=ds_reference, x=\"lon\", y=\"lat\", label=\"ds_ref\", transform=ccrs.PlateCarree())\n",
    "xr.plot.scatter(ax=ax, c=da_interior_mask, ds=da_interior_mask.to_dataset(name=\"mask\"), x=\"lon\", y=\"lat\", marker=\"x\", label=\"ds (interior)\")\n",
    "ax.coastlines()\n",
    "ax.gridlines(draw_labels=True)\n",
    "ax.legend()\n",
    "plt.show()\n",
    "    "
   ]
  },
  {
   "cell_type": "markdown",
   "metadata": {},
   "source": [
    "Next we will for the points from the larger domain and exterior to this convex hull (i.e. points excluded by the mask created above) compute the distance to the nearest point of the inner domain."
   ]
  },
  {
   "cell_type": "code",
   "execution_count": null,
   "metadata": {},
   "outputs": [],
   "source": [
    "da_dist = cropping.distance_to_convex_hull_boundary(ds=ds_global, ds_reference=ds_lam)"
   ]
  },
  {
   "cell_type": "code",
   "execution_count": null,
   "metadata": {},
   "outputs": [],
   "source": [
    "fig, ax = plt.subplots(subplot_kw=dict(projection=ccrs.PlateCarree()), figsize=(10, 4))\n",
    "xr.plot.scatter(ax=ax, ds=ds_reference, x=\"lon\", y=\"lat\", label=\"ds_ref\", marker=\".\", transform=ccrs.PlateCarree())\n",
    "xr.plot.scatter(ax=ax, hue=\"dist\", ds=da_dist.to_dataset(name=\"dist\"), x=\"lon\", y=\"lat\", marker=\"x\", label=\"ds (distance)\", add_colorbar=True)\n",
    "ax.coastlines()\n",
    "ax.gridlines(draw_labels=[\"top\", \"left\"])"
   ]
  },
  {
   "cell_type": "markdown",
   "metadata": {},
   "source": [
    "And finally we will use this distance to create a plot that includes a margin around the convex hull of the inner domain."
   ]
  },
  {
   "cell_type": "code",
   "execution_count": null,
   "metadata": {},
   "outputs": [],
   "source": [
    "max_dist = 1.5 # in degrees\n",
    "da_global_margin_crop = cropping.crop_to_within_convex_hull_margin(\n",
    "    ds=ds_global, ds_reference=ds_lam, max_dist=max_dist\n",
    ")"
   ]
  },
  {
   "cell_type": "code",
   "execution_count": null,
   "metadata": {},
   "outputs": [],
   "source": [
    "fig, ax = plt.subplots(subplot_kw=dict(projection=ccrs.PlateCarree()), figsize=(10, 4))\n",
    "xr.plot.scatter(ax=ax, ds=ds_reference, x=\"lon\", y=\"lat\", label=\"ds_ref\", marker=\".\", transform=ccrs.PlateCarree())\n",
    "xr.plot.scatter(ax=ax, ds=da_global_margin_crop, x=\"lon\", y=\"lat\", marker=\"x\", label=f\"ds (margin crop, {max_dist}deg)\", transform=ccrs.PlateCarree())\n",
    "ax.coastlines()\n",
    "ax.legend()\n",
    "ax.gridlines(draw_labels=[\"top\", \"left\"])"
   ]
  },
  {
   "cell_type": "code",
   "execution_count": null,
   "metadata": {},
   "outputs": [],
   "source": []
  }
 ],
 "metadata": {
  "kernelspec": {
   "display_name": ".venv",
   "language": "python",
   "name": "python3"
  },
  "language_info": {
   "codemirror_mode": {
    "name": "ipython",
    "version": 3
   },
   "file_extension": ".py",
   "mimetype": "text/x-python",
   "name": "python",
   "nbconvert_exporter": "python",
   "pygments_lexer": "ipython3",
   "version": "3.12.4"
  }
 },
 "nbformat": 4,
 "nbformat_minor": 2
}
